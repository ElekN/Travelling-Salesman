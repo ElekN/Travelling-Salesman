{
 "cells": [
  {
   "cell_type": "code",
   "execution_count": 7,
   "id": "bd2dc6b2",
   "metadata": {},
   "outputs": [],
   "source": [
    "import numpy as np\n",
    "import time\n",
    "from algorithms import brute_force, nearest_neighbor\n",
    "from utils import dist_matrix_generator"
   ]
  },
  {
   "cell_type": "code",
   "execution_count": 24,
   "id": "cc88d052",
   "metadata": {},
   "outputs": [
    {
     "name": "stdout",
     "output_type": "stream",
     "text": [
      "[[ 0 52 51 75 40 58 47 67 89 31 45]\n",
      " [52  0 39 13 28 82 31 67 94 84 50]\n",
      " [51 39  0 37 65 35 33 15 33 77 82]\n",
      " [75 13 37  0 60 55 49 65 77 74 33]\n",
      " [40 28 65 60  0 56 46 49 71 47 40]\n",
      " [58 82 35 55 56  0 52 93 96 57 56]\n",
      " [47 31 33 49 46 52  0 21 73 55 83]\n",
      " [67 67 15 65 49 93 21  0 49 46 84]\n",
      " [89 94 33 77 71 96 73 49  0 87 50]\n",
      " [31 84 77 74 47 57 55 46 87  0 58]\n",
      " [45 50 82 33 40 56 83 84 50 58  0]]\n"
     ]
    }
   ],
   "source": [
    "dist_matrix = dist_matrix_generator.generate(num_cities=11, min_dist=10, max_dist=100, seed = 22)\n",
    "\n",
    "print(dist_matrix)"
   ]
  },
  {
   "cell_type": "code",
   "execution_count": 25,
   "id": "0f936566",
   "metadata": {},
   "outputs": [
    {
     "name": "stdout",
     "output_type": "stream",
     "text": [
      "BRUTE FORCE:\n",
      "Putanja: [0, 4, 1, 3, 10, 8, 2, 7, 6, 5, 9, 0]\n",
      "Distanca: 373.00\n",
      "Vreme izvršavanja: 30.276166 sekundi\n",
      "----------------------\n",
      "NEAREST NEIGHBOR:\n",
      "Putanja: [0, 9, 7, 2, 6, 1, 3, 10, 4, 5, 8, 0]\n",
      "Distanca: 483.00\n",
      "Vreme izvršavanja: 0.000000 sekundi\n",
      "\n"
     ]
    }
   ],
   "source": [
    "if len(dist_matrix) <= 12:\n",
    "    start_time = time.time()\n",
    "    path, distance = brute_force.solve(dist_matrix)\n",
    "    end_time = time.time()\n",
    "    execution_time = end_time - start_time\n",
    "\n",
    "    print(f\"BRUTE FORCE:\")\n",
    "    print(f\"Putanja: {path}\")\n",
    "    print(f\"Distanca: {distance:.2f}\")\n",
    "    print(f\"Vreme izvršavanja: {execution_time:.6f} sekundi\")\n",
    "else:\n",
    "    print(f\"Broj gradova prevelik za brute force.\")\n",
    "\n",
    "start_time = time.time()\n",
    "path, distance = nearest_neighbor.solve(dist_matrix)\n",
    "end_time = time.time()\n",
    "execution_time = end_time - start_time\n",
    "\n",
    "print(\"----------------------\")\n",
    "\n",
    "print(f\"NEAREST NEIGHBOR:\")\n",
    "print(f\"Putanja: {path}\")\n",
    "print(f\"Distanca: {distance:.2f}\")\n",
    "print(f\"Vreme izvršavanja: {execution_time:.6f} sekundi\\n\")"
   ]
  }
 ],
 "metadata": {
  "kernelspec": {
   "display_name": "Python 3",
   "language": "python",
   "name": "python3"
  },
  "language_info": {
   "codemirror_mode": {
    "name": "ipython",
    "version": 3
   },
   "file_extension": ".py",
   "mimetype": "text/x-python",
   "name": "python",
   "nbconvert_exporter": "python",
   "pygments_lexer": "ipython3",
   "version": "3.11.4"
  }
 },
 "nbformat": 4,
 "nbformat_minor": 5
}
