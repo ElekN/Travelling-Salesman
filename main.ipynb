{
 "cells": [
  {
   "cell_type": "code",
   "execution_count": 1,
   "id": "bd2dc6b2",
   "metadata": {},
   "outputs": [],
   "source": [
    "import numpy as np\n",
    "import time\n",
    "from algorithms import brute_force, genetic_algorithm, nearest_neighbor\n",
    "from utils import dist_matrix_generator"
   ]
  },
  {
   "cell_type": "code",
   "execution_count": 2,
   "id": "cc88d052",
   "metadata": {},
   "outputs": [
    {
     "name": "stdout",
     "output_type": "stream",
     "text": [
      "[[ 0 49 82 58 38 24 43 63 85 46]\n",
      " [49  0 33 56 42 38 92 29 49 89]\n",
      " [82 33  0 57 75 54 66 56 62 35]\n",
      " [58 56 57  0 21 67 97 54 48 82]\n",
      " [38 42 75 21  0 17 91 53 80 39]\n",
      " [24 38 54 67 17  0 48 52 57 62]\n",
      " [43 92 66 97 91 48  0 45 47 30]\n",
      " [63 29 56 54 53 52 45  0 95 52]\n",
      " [85 49 62 48 80 57 47 95  0 87]\n",
      " [46 89 35 82 39 62 30 52 87  0]]\n"
     ]
    }
   ],
   "source": [
    "dist_matrix = dist_matrix_generator.generate(num_cities=10, min_dist=10, max_dist=100, seed = 22)\n",
    "\n",
    "print(dist_matrix)"
   ]
  },
  {
   "cell_type": "code",
   "execution_count": 3,
   "id": "0f936566",
   "metadata": {},
   "outputs": [
    {
     "name": "stdout",
     "output_type": "stream",
     "text": [
      "Broj gradova prevelik za brute force\n",
      "BRUTE FORCE:\n",
      "/\n",
      "-----------------------------------\n",
      "NEAREST NEIGHBOR:\n",
      "Putanja: [0, 5, 4, 3, 8, 6, 9, 2, 1, 7, 0]\n",
      "Distanca: 347.00\n",
      "Vreme izvršavanja: 0.000000 sekundi\n",
      "-----------------------------------\n",
      "GENETIC ALGORITHM:\n",
      "Putanja: [3, 8, 2, 1, 7, 6, 9, 0, 5, 4, 3]\n",
      "Distanca: 355.00\n",
      "Vreme izvršavanja: 0.421039 sekundi\n",
      "-----------------------------------\n"
     ]
    }
   ],
   "source": [
    "algorithms = {\n",
    "    \"BRUTE FORCE\" : brute_force,\n",
    "    \"NEAREST NEIGHBOR\" : nearest_neighbor,\n",
    "    \"GENETIC ALGORITHM\" : genetic_algorithm\n",
    "}\n",
    "\n",
    "for name, algo in algorithms.items():\n",
    "    start_time = time.time()\n",
    "    path, distance = algo.solve(dist_matrix)\n",
    "    end_time = time.time()\n",
    "    execution_time = end_time - start_time\n",
    "\n",
    "    print(f\"{name}:\")\n",
    "    if path == []:\n",
    "        print(\"/\")\n",
    "    else:\n",
    "        print(f\"Putanja: {path}\")\n",
    "        print(f\"Distanca: {distance:.2f}\")\n",
    "        print(f\"Vreme izvršavanja: {execution_time:.6f} sekundi\")\n",
    "    print(\"-----------------------------------\")"
   ]
  }
 ],
 "metadata": {
  "kernelspec": {
   "display_name": "Python 3",
   "language": "python",
   "name": "python3"
  },
  "language_info": {
   "codemirror_mode": {
    "name": "ipython",
    "version": 3
   },
   "file_extension": ".py",
   "mimetype": "text/x-python",
   "name": "python",
   "nbconvert_exporter": "python",
   "pygments_lexer": "ipython3",
   "version": "3.11.4"
  }
 },
 "nbformat": 4,
 "nbformat_minor": 5
}
