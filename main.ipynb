{
 "cells": [
  {
   "cell_type": "code",
   "execution_count": null,
   "id": "bd2dc6b2",
   "metadata": {},
   "outputs": [],
   "source": [
    "import numpy as np\n",
    "import time\n",
    "from algorithms import brute_force"
   ]
  },
  {
   "cell_type": "code",
   "execution_count": null,
   "id": "f8925f0b",
   "metadata": {},
   "outputs": [],
   "source": [
    "dist_matrix_10 = np.array([\n",
    "    [ 0, 54, 90, 46, 84, 32, 71, 21, 63, 38],\n",
    "    [54,  0, 37, 19, 41, 75, 25, 72, 15, 69],\n",
    "    [90, 37,  0, 74, 49, 99, 65, 92, 25, 81],\n",
    "    [46, 19, 74,  0, 29, 61, 50, 56, 33, 45],\n",
    "    [84, 41, 49, 29,  0, 88, 58, 95, 31, 77],\n",
    "    [32, 75, 99, 61, 88,  0, 51, 19, 70, 27],\n",
    "    [71, 25, 65, 50, 58, 51,  0, 61, 40, 88],\n",
    "    [21, 72, 92, 56, 95, 19, 61,  0, 77, 33],\n",
    "    [63, 15, 25, 33, 31, 70, 40, 77,  0, 60],\n",
    "    [38, 69, 81, 45, 77, 27, 88, 33, 60,  0]\n",
    "])"
   ]
  },
  {
   "cell_type": "code",
   "execution_count": 25,
   "id": "0f936566",
   "metadata": {},
   "outputs": [
    {
     "name": "stdout",
     "output_type": "stream",
     "text": [
      "Putanja: [0, 7, 5, 6, 1, 8, 2, 4, 3, 9, 0]\n",
      "Distanca: 317.00\n",
      "Vreme izvršavanja: 1.257399 sekundi\n",
      "\n"
     ]
    }
   ],
   "source": [
    "start_time = time.time()\n",
    "path, distance = brute_force.solve(dist_matrix_10)\n",
    "end_time = time.time()\n",
    "execution_time = end_time - start_time\n",
    "\n",
    "print(f\"Putanja: {path}\")\n",
    "print(f\"Distanca: {distance:.2f}\")\n",
    "print(f\"Vreme izvršavanja: {execution_time:.6f} sekundi\\n\")"
   ]
  }
 ],
 "metadata": {
  "kernelspec": {
   "display_name": "Python 3",
   "language": "python",
   "name": "python3"
  },
  "language_info": {
   "codemirror_mode": {
    "name": "ipython",
    "version": 3
   },
   "file_extension": ".py",
   "mimetype": "text/x-python",
   "name": "python",
   "nbconvert_exporter": "python",
   "pygments_lexer": "ipython3",
   "version": "3.11.4"
  }
 },
 "nbformat": 4,
 "nbformat_minor": 5
}
